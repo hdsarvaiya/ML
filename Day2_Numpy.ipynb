{
 "cells": [
  {
   "cell_type": "code",
   "execution_count": 3,
   "id": "6c7a1141",
   "metadata": {},
   "outputs": [
    {
     "name": "stdout",
     "output_type": "stream",
     "text": [
      "a [1 2 3]\n",
      "b [[1 2 3]\n",
      " [4 5 6]]\n"
     ]
    }
   ],
   "source": [
    "import numpy as np\n",
    "\n",
    "a = np.array([1,2,3])\n",
    "b = np.array([[1,2,3],[4,5,6]])\n",
    "\n",
    "print(\"a\" , a)\n",
    "print(\"b\" , b)\n"
   ]
  },
  {
   "cell_type": "code",
   "execution_count": 4,
   "id": "43f638c2",
   "metadata": {},
   "outputs": [
    {
     "name": "stdout",
     "output_type": "stream",
     "text": [
      "Shape of a: (3,)\n",
      "Shape of b: (2, 3)\n",
      "Dimension of b: 2\n",
      "Data type of b: int64\n"
     ]
    }
   ],
   "source": [
    "print(\"Shape of a:\", a.shape)\n",
    "print(\"Shape of b:\", b.shape)\n",
    "print(\"Dimension of b:\", b.ndim)\n",
    "print(\"Data type of b:\", b.dtype)"
   ]
  },
  {
   "cell_type": "code",
   "execution_count": 7,
   "id": "a7968ba7",
   "metadata": {},
   "outputs": [
    {
     "name": "stdout",
     "output_type": "stream",
     "text": [
      "First row of b: [1 2 3]\n",
      "Element at row1,col2: 2\n",
      "Slice rows 0-1, col 1-2:\n",
      " [[2 3]\n",
      " [5 6]]\n"
     ]
    }
   ],
   "source": [
    "print(\"First row of b:\", b[0])\n",
    "print(\"Element at row1,col2:\", b[0,1])\n",
    "print(\"Slice rows 0-1, col 1-2:\\n\", b[0:2, 1:3])\n"
   ]
  },
  {
   "cell_type": "code",
   "execution_count": 8,
   "id": "9fd3e89a",
   "metadata": {},
   "outputs": [
    {
     "name": "stdout",
     "output_type": "stream",
     "text": [
      "b + x:\n",
      " [[11 22 33]\n",
      " [14 25 36]]\n"
     ]
    }
   ],
   "source": [
    "x = np.array([10,20,30])\n",
    "print(\"b + x:\\n\", b + x)"
   ]
  },
  {
   "cell_type": "code",
   "execution_count": 9,
   "id": "07808e44",
   "metadata": {},
   "outputs": [
    {
     "name": "stdout",
     "output_type": "stream",
     "text": [
      "Dot product: 32\n"
     ]
    }
   ],
   "source": [
    "v1 = np.array([1,2,3])\n",
    "v2 = np.array([4,5,6])\n",
    "print(\"Dot product:\", np.dot(v1, v2)) "
   ]
  },
  {
   "cell_type": "code",
   "execution_count": 10,
   "id": "fde8642d",
   "metadata": {},
   "outputs": [
    {
     "name": "stdout",
     "output_type": "stream",
     "text": [
      "Matrix multiplication:\n",
      " [[19 22]\n",
      " [43 50]]\n"
     ]
    }
   ],
   "source": [
    "m1 = np.array([[1,2],[3,4]])\n",
    "m2 = np.array([[5,6],[7,8]])\n",
    "print(\"Matrix multiplication:\\n\", np.matmul(m1, m2))"
   ]
  },
  {
   "cell_type": "code",
   "execution_count": null,
   "id": "7f473884",
   "metadata": {},
   "outputs": [
    {
     "name": "stdout",
     "output_type": "stream",
     "text": [
      "[[1 2 3]\n",
      " [4 5 6]\n",
      " [7 8 9]]\n",
      "\n",
      "[[1 4 7]\n",
      " [2 5 8]\n",
      " [3 6 9]]\n"
     ]
    }
   ],
   "source": [
    "matrix = np.array([[1,2,3] , [4,5,6],[7,8,9]])\n",
    "\n",
    "print(matrix)\n",
    "\n",
    "transpose_matrix = matrix.T\n",
    "print(\"This is the Transpose matrix which help to convert the ROWS and COLUMNS\")\n",
    "\n",
    "print(transpose_matrix)"
   ]
  },
  {
   "cell_type": "code",
   "execution_count": 17,
   "id": "1dfd0387",
   "metadata": {},
   "outputs": [
    {
     "name": "stdout",
     "output_type": "stream",
     "text": [
      "[ 1  2  3  4  5  6  7  8  9 10]\n",
      "\n",
      "[[ 1  2  3  4  5]\n",
      " [ 6  7  8  9 10]]\n"
     ]
    }
   ],
   "source": [
    "# Task 2: Generate an array from np.arange(1, 11) and reshape it into 2x5.\n",
    "\n",
    "array_arange = np.arange(1,11)\n",
    "\n",
    "print(array_arange)\n",
    "\n",
    "print(\"\")\n",
    "\n",
    "reshaper = array_arange.reshape(2,5)\n",
    "\n",
    "print(reshaper)"
   ]
  },
  {
   "cell_type": "code",
   "execution_count": 18,
   "id": "f428be5a",
   "metadata": {},
   "outputs": [
    {
     "name": "stdout",
     "output_type": "stream",
     "text": [
      "\n",
      "Vector A: [1 2 3]\n",
      "Vector B: [4 5 6]\n",
      "Euclidean Distance: 5.196152422706632\n"
     ]
    }
   ],
   "source": [
    "vector_a = np.array([1, 2, 3])\n",
    "vector_b = np.array([4, 5, 6])\n",
    "\n",
    "\n",
    "square = (vector_a - vector_b)**2\n",
    "\n",
    "D = np.sqrt(np.sum(square))\n",
    "\n",
    "print(\"\\nVector A:\", vector_a)\n",
    "print(\"Vector B:\", vector_b)\n",
    "print(\"Euclidean Distance:\", D)"
   ]
  }
 ],
 "metadata": {
  "kernelspec": {
   "display_name": "Python 3",
   "language": "python",
   "name": "python3"
  },
  "language_info": {
   "codemirror_mode": {
    "name": "ipython",
    "version": 3
   },
   "file_extension": ".py",
   "mimetype": "text/x-python",
   "name": "python",
   "nbconvert_exporter": "python",
   "pygments_lexer": "ipython3",
   "version": "3.13.7"
  }
 },
 "nbformat": 4,
 "nbformat_minor": 5
}
