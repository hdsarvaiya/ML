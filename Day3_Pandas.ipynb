{
 "cells": [
  {
   "cell_type": "code",
   "execution_count": 1,
   "id": "2a260337",
   "metadata": {},
   "outputs": [
    {
     "name": "stdout",
     "output_type": "stream",
     "text": [
      "      Name  Age     City  Salary\n",
      "0    Alice   25       NY   50000\n",
      "1      Bob   30       LA   60000\n",
      "2  Charlie   35       NY   75000\n",
      "3    David   40  Chicago   80000\n",
      "4      Eva   22       LA   45000\n"
     ]
    }
   ],
   "source": [
    "import pandas as pd\n",
    "\n",
    "\n",
    "data = {\n",
    "    'Name': ['Alice','Bob','Charlie','David','Eva'],\n",
    "    'Age': [25,30,35,40,22],\n",
    "    'City': ['NY','LA','NY','Chicago','LA'],\n",
    "    'Salary': [50000,60000,75000,80000,45000]\n",
    "}\n",
    "\n",
    "df = pd.DataFrame(data)\n",
    "\n",
    "print(df)"
   ]
  },
  {
   "cell_type": "code",
   "execution_count": 3,
   "id": "004a658f",
   "metadata": {},
   "outputs": [
    {
     "name": "stdout",
     "output_type": "stream",
     "text": [
      "      Name  Age     City  Salary\n",
      "0    Alice   25       NY   50000\n",
      "1      Bob   30       LA   60000\n",
      "2  Charlie   35       NY   75000\n",
      "3    David   40  Chicago   80000\n",
      "4      Eva   22       LA   45000\n",
      " \n",
      "<class 'pandas.core.frame.DataFrame'>\n",
      "RangeIndex: 5 entries, 0 to 4\n",
      "Data columns (total 4 columns):\n",
      " #   Column  Non-Null Count  Dtype \n",
      "---  ------  --------------  ----- \n",
      " 0   Name    5 non-null      object\n",
      " 1   Age     5 non-null      int64 \n",
      " 2   City    5 non-null      object\n",
      " 3   Salary  5 non-null      int64 \n",
      "dtypes: int64(2), object(2)\n",
      "memory usage: 292.0+ bytes\n",
      "None\n",
      " \n",
      "             Age        Salary\n",
      "count   5.000000      5.000000\n",
      "mean   30.400000  62000.000000\n",
      "std     7.300685  15247.950682\n",
      "min    22.000000  45000.000000\n",
      "25%    25.000000  50000.000000\n",
      "50%    30.000000  60000.000000\n",
      "75%    35.000000  75000.000000\n",
      "max    40.000000  80000.000000\n"
     ]
    }
   ],
   "source": [
    "print(df.head())\n",
    "print(\" \")\n",
    "print(df.info())\n",
    "print(\" \")\n",
    "print(df.describe())"
   ]
  },
  {
   "cell_type": "code",
   "execution_count": 7,
   "id": "d5fdeb37",
   "metadata": {},
   "outputs": [
    {
     "name": "stdout",
     "output_type": "stream",
     "text": [
      "Names:\n",
      " 0      Alice\n",
      "1        Bob\n",
      "2    Charlie\n",
      "3      David\n",
      "4        Eva\n",
      "Name: Name, dtype: object\n",
      "Name & Salary:\n",
      "       Name  Salary\n",
      "0    Alice   50000\n",
      "1      Bob   60000\n",
      "2  Charlie   75000\n",
      "3    David   80000\n",
      "4      Eva   45000\n",
      " \n",
      "Age > 30:\n",
      "       Name  Age     City  Salary\n",
      "2  Charlie   35       NY   75000\n",
      "3    David   40  Chicago   80000\n"
     ]
    }
   ],
   "source": [
    "print(\"Names:\\n\", df['Name'])\n",
    "print(\"Name & Salary:\\n\", df[['Name','Salary']])\n",
    "\n",
    "print(\" \")\n",
    "print(\"Age > 30:\\n\", df[df['Age'] > 30])\n"
   ]
  },
  {
   "cell_type": "code",
   "execution_count": 10,
   "id": "05540f9b",
   "metadata": {},
   "outputs": [
    {
     "name": "stdout",
     "output_type": "stream",
     "text": [
      "Average Salary per City:\n",
      " City\n",
      "Chicago    80000.0\n",
      "LA         52500.0\n",
      "NY         62500.0\n",
      "Name: Salary, dtype: float64\n"
     ]
    }
   ],
   "source": [
    "print(\"Average Salary per City:\\n\", df.groupby('City')['Salary'].mean())"
   ]
  },
  {
   "cell_type": "code",
   "execution_count": 11,
   "id": "7791547b",
   "metadata": {},
   "outputs": [
    {
     "name": "stdout",
     "output_type": "stream",
     "text": [
      "Sorted by Age:\n",
      "       Name  Age     City  Salary\n",
      "4      Eva   22       LA   45000\n",
      "0    Alice   25       NY   50000\n",
      "1      Bob   30       LA   60000\n",
      "2  Charlie   35       NY   75000\n",
      "3    David   40  Chicago   80000\n"
     ]
    }
   ],
   "source": [
    "print(\"Sorted by Age:\\n\", df.sort_values(by='Age'))"
   ]
  },
  {
   "cell_type": "code",
   "execution_count": 12,
   "id": "6e09a66d",
   "metadata": {},
   "outputs": [
    {
     "name": "stdout",
     "output_type": "stream",
     "text": [
      "      Name  Age     City  Salary      Tax\n",
      "0    Alice   25       NY   50000  10000.0\n",
      "1      Bob   30       LA   60000  12000.0\n",
      "2  Charlie   35       NY   75000  15000.0\n",
      "3    David   40  Chicago   80000  16000.0\n",
      "4      Eva   22       LA   45000   9000.0\n"
     ]
    }
   ],
   "source": [
    "df['Tax'] = df['Salary'] * 0.2\n",
    "print(df)"
   ]
  },
  {
   "cell_type": "code",
   "execution_count": 14,
   "id": "c528e52f",
   "metadata": {},
   "outputs": [
    {
     "name": "stdout",
     "output_type": "stream",
     "text": [
      "Merged Data:\n",
      "       Name  Age     City  Salary      Tax   Bonus\n",
      "0    Alice   25       NY   50000  10000.0  5000.0\n",
      "1      Bob   30       LA   60000  12000.0  4000.0\n",
      "2  Charlie   35       NY   75000  15000.0     NaN\n",
      "3    David   40  Chicago   80000  16000.0     NaN\n",
      "4      Eva   22       LA   45000   9000.0  3000.0\n"
     ]
    }
   ],
   "source": [
    "# 8. Merging (tiny example)\n",
    "bonus = pd.DataFrame({\n",
    "    'Name': ['Alice','Bob','Eva'],\n",
    "    'Bonus': [5000,4000,3000]\n",
    "})\n",
    "\n",
    "merged = pd.merge(df, bonus, on='Name', how='left')\n",
    "print(\"Merged Data:\\n\", merged)"
   ]
  },
  {
   "cell_type": "code",
   "execution_count": 16,
   "id": "1cc8409b",
   "metadata": {},
   "outputs": [
    {
     "name": "stdout",
     "output_type": "stream",
     "text": [
      "Student DataFrame with Average:\n",
      "     Name  Marks1  Marks2  Marks3    Average\n",
      "0    Aman      85      90      75  83.333333\n",
      "1  Bhavna      92      85      90  89.000000\n",
      "2  Chetan      78      80      85  81.000000\n",
      "3    Diya      88      95      82  88.333333\n",
      "------------------------------\n"
     ]
    }
   ],
   "source": [
    "# Task 1: Create a DataFrame of students and add an 'Average' column.\n",
    "data = {'Name': ['Aman', 'Bhavna', 'Chetan', 'Diya'],\n",
    "        'Marks1': [85, 92, 78, 88],\n",
    "        'Marks2': [90, 85, 80, 95],\n",
    "        'Marks3': [75, 90, 85, 82]}\n",
    "\n",
    "df_students = pd.DataFrame(data)\n",
    "\n",
    "# Add the 'Average' column\n",
    "df_students['Average'] = df_students[['Marks1', 'Marks2', 'Marks3']].mean(axis=1)\n",
    "\n",
    "print(\"Student DataFrame with Average:\")\n",
    "print(df_students)\n",
    "print(\"-\" * 30)"
   ]
  },
  {
   "cell_type": "code",
   "execution_count": 17,
   "id": "4944c279",
   "metadata": {},
   "outputs": [
    {
     "name": "stdout",
     "output_type": "stream",
     "text": [
      "First 5 rows of the Titanic DataFrame:\n",
      "   survived  pclass     sex   age  sibsp  parch     fare embarked  class  \\\n",
      "0         0       3    male  22.0      1      0   7.2500        S  Third   \n",
      "1         1       1  female  38.0      1      0  71.2833        C  First   \n",
      "2         1       3  female  26.0      0      0   7.9250        S  Third   \n",
      "3         1       1  female  35.0      1      0  53.1000        S  First   \n",
      "4         0       3    male  35.0      0      0   8.0500        S  Third   \n",
      "\n",
      "     who  adult_male deck  embark_town alive  alone  \n",
      "0    man        True  NaN  Southampton    no  False  \n",
      "1  woman       False    C    Cherbourg   yes  False  \n",
      "2  woman       False  NaN  Southampton   yes   True  \n",
      "3  woman       False    C  Southampton   yes  False  \n",
      "4    man        True  NaN  Southampton    no   True  \n",
      "------------------------------\n",
      "Shape of the Titanic DataFrame:\n",
      "(891, 15)\n",
      "------------------------------\n"
     ]
    }
   ],
   "source": [
    "url = \"https://raw.githubusercontent.com/mwaskom/seaborn-data/master/titanic.csv\"\n",
    "df_titanic = pd.read_csv(url)\n",
    "\n",
    "print(\"First 5 rows of the Titanic DataFrame:\")\n",
    "print(df_titanic.head())\n",
    "print(\"-\" * 30)\n",
    "\n",
    "print(\"Shape of the Titanic DataFrame:\")\n",
    "print(df_titanic.shape)\n",
    "print(\"-\" * 30)"
   ]
  },
  {
   "cell_type": "code",
   "execution_count": 18,
   "id": "c4a9c4b1",
   "metadata": {},
   "outputs": [
    {
     "name": "stdout",
     "output_type": "stream",
     "text": [
      "Average age per passenger class:\n",
      "pclass\n",
      "1    38.233441\n",
      "2    29.877630\n",
      "3    25.140620\n",
      "Name: age, dtype: float64\n",
      "------------------------------\n"
     ]
    }
   ],
   "source": [
    "average_age_by_class = df_titanic.groupby('pclass')['age'].mean()\n",
    "\n",
    "print(\"Average age per passenger class:\")\n",
    "print(average_age_by_class)\n",
    "print(\"-\" * 30)\n"
   ]
  },
  {
   "cell_type": "code",
   "execution_count": 19,
   "id": "c4aa58a9",
   "metadata": {},
   "outputs": [
    {
     "name": "stdout",
     "output_type": "stream",
     "text": [
      "Number of survivors per gender:\n",
      "sex\n",
      "female    233\n",
      "male      109\n",
      "Name: survived, dtype: int64\n",
      "------------------------------\n"
     ]
    }
   ],
   "source": [
    "# Task 4: Count how many survived (survived=1) per gender.\n",
    "survived_by_gender = df_titanic[df_titanic['survived'] == 1].groupby('sex')['survived'].count()\n",
    "\n",
    "print(\"Number of survivors per gender:\")\n",
    "print(survived_by_gender)\n",
    "print(\"-\" * 30)\n"
   ]
  },
  {
   "cell_type": "code",
   "execution_count": null,
   "id": "4960b27f",
   "metadata": {},
   "outputs": [
    {
     "name": "stdout",
     "output_type": "stream",
     "text": [
      "Missing values in 'age' column after filling with median:\n",
      "0\n",
      "------------------------------\n"
     ]
    }
   ],
   "source": [
    "median_age = df_titanic['age'].median()\n",
    "\n",
    "# Use direct assignment to fill missing values and avoid the FutureWaring\n",
    "df_titanic['age'] = df_titanic['age'].fillna(median_age)\n",
    "\n",
    "print(\"Missing values in 'age' column after filling with median:\")\n",
    "print(df_titanic['age'].isnull().sum())\n",
    "print(\"-\" * 30)"
   ]
  }
 ],
 "metadata": {
  "kernelspec": {
   "display_name": "Python 3",
   "language": "python",
   "name": "python3"
  },
  "language_info": {
   "codemirror_mode": {
    "name": "ipython",
    "version": 3
   },
   "file_extension": ".py",
   "mimetype": "text/x-python",
   "name": "python",
   "nbconvert_exporter": "python",
   "pygments_lexer": "ipython3",
   "version": "3.13.7"
  }
 },
 "nbformat": 4,
 "nbformat_minor": 5
}
